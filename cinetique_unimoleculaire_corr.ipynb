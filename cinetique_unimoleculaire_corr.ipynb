{
 "cells": [
  {
   "cell_type": "markdown",
   "metadata": {
    "colab_type": "text",
    "id": "XYIFpy0x7p9O"
   },
   "source": [
    "## La cinétique, molécule par molécule\n",
    "*Fin de la séance 2b- Durée: 1h*"
   ]
  },
  {
   "cell_type": "markdown",
   "metadata": {
    "colab_type": "text",
    "id": "SnZv_CDn7p9P"
   },
   "source": [
    "### Objectifs\n",
    "Comprendre comment ont peut faire de la cinétique en observant l'état d'une molécule individuellement au cours du temps."
   ]
  },
  {
   "cell_type": "markdown",
   "metadata": {
    "colab_type": "text",
    "id": "h2QBsXCe7p9R"
   },
   "source": [
    "### Position du problème\n",
    "\n",
    "On part ici d'une situation réelle, pour comprendre dans quel contexte on peut s'intéresser à cette question. Lire le support introductif"
   ]
  },
  {
   "cell_type": "code",
   "execution_count": 0,
   "metadata": {
    "colab": {},
    "colab_type": "code",
    "id": "6jSePSd97p9R",
    "outputId": "d7bd9cb8-aa25-45b1-bc99-664b848e457d"
   },
   "outputs": [
    {
     "data": {
      "text/html": [
       "<a href=\"https://eformation.univ-grenoble-alpes.fr/pluginfile.php/223516/mod_folder/content/0/fluorescence_monomoleculaire.pdf?forcedownload=1\">Lire le support introductif</a>"
      ],
      "text/plain": [
       "<IPython.core.display.HTML object>"
      ]
     },
     "metadata": {
      "tags": []
     },
     "output_type": "display_data"
    }
   ],
   "source": [
    "from IPython.core.display import display, HTML\n",
    "display(HTML(\"\"\"<a href=\"https://eformation.univ-grenoble-alpes.fr/pluginfile.php/223516/mod_folder/content/0/fluorescence_monomoleculaire.pdf?forcedownload=1\">Lire le support introductif</a>\"\"\"))"
   ]
  },
  {
   "cell_type": "markdown",
   "metadata": {
    "colab_type": "text",
    "id": "41evhLvG7p9V"
   },
   "source": [
    "#### Q1\n",
    "Indiquer ci-dessous les questions qui vous viennent spontanément après lecture.\n",
    "Comment peut-on remonter à une cinétique globale en mesurant des temps durant lequel la molécule s'accroche au substrat?"
   ]
  },
  {
   "cell_type": "markdown",
   "metadata": {
    "colab_type": "text",
    "id": "gvXMF9kc7p9V"
   },
   "source": [
    "### Comment déduire une constante de vitesse de l'observation des états de molécules?\n",
    "\n",
    "Soit une réaction d'isomérisation:\n",
    " \n",
    "$$ A  \\overset{k_{A\\rightarrow B}}{\\underset{k_{B\\rightarrow A}}{\\rightleftarrows}} B  $$\n",
    "\n",
    "Les lois de la cinétique macroscopiques permettent de démontrer l'évolution exponentielle des concentrations en $A$ et $B$ avec une cinétique d'ordre 1. Pour des quantités de molécules $N_A$ et $N_B$, on a le système d'équations différentielles:\n",
    "\n",
    "$$\\left\\{ \\begin{align} \\frac{dN_A}{dt} & = -k_{A\\rightarrow B}\\ N_A + k_{B\\rightarrow A}\\ N_B  \\\\\n",
    "\\frac{dN_B}{dt} & = k_{A\\rightarrow B}\\ N_A - k_{B\\rightarrow A}\\ N_B\n",
    "\\end{align} \\right. $$\n",
    "\n",
    "Toutefois, le comportement du système peut être décrit en utilisant la notion de transformation aléatoire à l'échelle d'une molécule.\n",
    "\n",
    "Ainsi, une molécule $A$ a, pendant un intervalle de temps $dt$, une probabilité $p_{A\\rightarrow B}$ de se transformer en molécule $B$. À l'inverse, une molécule $B$ a une probabilité $p_{B\\rightarrow A}$ de se transformer en molécule $A$. Le tout forme donc un système que l'on appelle un automate déterministe.\n",
    "\n",
    "Comment alors arrive t-on à la loi de vitesse que vous connaissez bien maintenant? \n",
    "\n",
    "Remarquons déjà que si on divise $N_A$ ou $N_B$ par $N_{tot} = N_A + N_B$, alors on peut interpréter $p_A = N_A/N_{tot}$ (resp. $p_B = N_B/N_{tot}$) comme la probabilité pour une molécule d'être dans un état $A$ (resp. $B$). Et on a:\n",
    "\n",
    "$$\\left\\{ \\begin{align} \\frac{dp_A}{dt} & = -k_{A\\rightarrow B}\\ p_A + k_{B\\rightarrow A}\\ p_B  \\\\\n",
    "\\frac{dp_B}{dt} & = k_{A\\rightarrow B}\\ p_A - k_{B\\rightarrow A}\\ p_B\n",
    "\\end{align} \\right. $$\n",
    "\n",
    "La première équation peut être traduite, durant le pas de temps $dt$ en:\n",
    "\n",
    "$$p_A (t+dt) = (1-k_{A\\rightarrow B} dt) p_A(t) +  k_{B\\rightarrow A} dt \\ p_B(t) $$\n",
    "\n",
    "$p_A (t+dt)$ se décompose en:\n",
    " - (probabilité de rester $A$ si la molécule est déjà $A$) x (probabilité d'être à l'état $A$ à t)\n",
    " - (probabilité de basculer de $B$ à $A$) x (probabilité d'être à l'état $B$ à t)"
   ]
  },
  {
   "cell_type": "markdown",
   "metadata": {
    "colab_type": "text",
    "id": "OSFjKkpS7p9W"
   },
   "source": [
    "####  Q2 \n",
    "Pour une assemblée de $N$ molécules (vous ferez varier la valeur de $N$), initialement toutes dans le même état, simuler la variation de la population dans cet état en fonction du temps. Vous pouvez tester différentes valeurs pour la probabilité.\n",
    "\n",
    "Observer également les bascule entre états de quelques particules."
   ]
  },
  {
   "cell_type": "code",
   "execution_count": 1,
   "metadata": {
    "colab": {
     "base_uri": "https://localhost:8080/",
     "height": 283
    },
    "colab_type": "code",
    "executionInfo": {
     "elapsed": 565,
     "status": "ok",
     "timestamp": 1591539680416,
     "user": {
      "displayName": "Sandrine Brice-Profeta",
      "photoUrl": "",
      "userId": "04251549989364481438"
     },
     "user_tz": -120
    },
    "id": "JOx7fzP77p9W",
    "outputId": "a0a5e519-6059-4d05-e9cf-b7da31f4c947"
   },
   "outputs": [
    {
     "data": {
      "text/plain": [
       "[<matplotlib.lines.Line2D at 0x1e503b30ee0>]"
      ]
     },
     "execution_count": 1,
     "metadata": {},
     "output_type": "execute_result"
    },
    {
     "data": {
      "image/png": "[encoded data removed]",
      "text/plain": [
       "<Figure size 432x288 with 1 Axes>"
      ]
     },
     "metadata": {
      "needs_background": "light"
     },
     "output_type": "display_data"
    }
   ],
   "source": [
    "import numpy as np\n",
    "import random\n",
    "import scipy as sp\n",
    "import scipy.integrate as itg\n",
    "import matplotlib as mpl\n",
    "import matplotlib.pyplot as plt\n",
    "from IPython.display import *\n",
    "%matplotlib inline \n",
    "#pour affichage dans le notebook\n",
    "\n",
    "N=10\n",
    "assembly = [0]*N # 0 = état A et 1 = état B\n",
    "state = [N] #état global de l'assemblée de particules, ttes A à t=0\n",
    "statepart = [0] #suivi trajectoire d'une particule\n",
    "T = 100 #durée expérience\n",
    "h = 1 #pas de temps\n",
    "pfwd = 0.1 #probabilité A->B durant dt (kA->B * dt)\n",
    "pbwd = 0.01 # probabilité B-> A durant dt (kB->A * dt)\n",
    "for i in range(int(T/h)):\n",
    "  for k in range(len(assembly)):\n",
    "    alea = random.random() #tirage nbre aléatoire entre O et 1\n",
    "    if alea < pfwd and assembly[k] == 0: #donne une probabilité de pfwd\n",
    "      assembly[k] = 1 #bascule à l'état B\n",
    "    elif alea < pbwd and assembly[k] == 1: #donne une probabilité de pbwd\n",
    "      assembly[k] = 0 #bascule à l'état A\n",
    "  state.append(N-sum(assembly))\n",
    "  statepart.append(assembly[0]) #on suit l'état de la première particule\n",
    "\n",
    "plt.plot(state)"
   ]
  },
  {
   "cell_type": "code",
   "execution_count": 0,
   "metadata": {
    "colab": {},
    "colab_type": "code",
    "id": "zNiuKKHe7p9Z"
   },
   "outputs": [],
   "source": []
  }
 ],
 "metadata": {
  "colab": {
   "collapsed_sections": [],
   "name": "cinetique_unimoleculaire_P27_corr_vf.ipynb",
   "provenance": []
  },
  "kernelspec": {
   "display_name": "Python 3",
   "language": "python",
   "name": "python3"
  },
  "language_info": {
   "codemirror_mode": {
    "name": "ipython",
    "version": 3
   },
   "file_extension": ".py",
   "mimetype": "text/x-python",
   "name": "python",
   "nbconvert_exporter": "python",
   "pygments_lexer": "ipython3",
   "version": "3.8.8"
  }
 },
 "nbformat": 4,
 "nbformat_minor": 1
}

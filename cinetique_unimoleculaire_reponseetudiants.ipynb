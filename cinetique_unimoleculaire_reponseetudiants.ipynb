{
 "cells": [
  {
   "cell_type": "markdown",
   "metadata": {},
   "source": [
    "## La cinétique, molécule par molécule\n",
    "*Fin de la séance 2b- Durée: 1h*"
   ]
  },
  {
   "cell_type": "markdown",
   "metadata": {},
   "source": [
    "### Objectifs\n",
    "Comprendre comment ont peut faire de la cinétique en observant l'état d'une molécule individuellement au cours du temps."
   ]
  },
  {
   "cell_type": "markdown",
   "metadata": {},
   "source": [
    "### Position du problème\n",
    "\n",
    "On part ici d'une situation réelle, pour comprendre dans quel contexte on peut s'intéresser à cette question. Lire le support introductif"
   ]
  },
  {
   "cell_type": "code",
   "execution_count": 1,
   "metadata": {},
   "outputs": [
    {
     "data": {
      "text/html": [
       "<a href=\"https://eformation.univ-grenoble-alpes.fr/pluginfile.php/223516/mod_folder/content/0/fluorescence_monomoleculaire.pdf?forcedownload=1\">Lire le support introductif</a>"
      ],
      "text/plain": [
       "<IPython.core.display.HTML object>"
      ]
     },
     "metadata": {},
     "output_type": "display_data"
    }
   ],
   "source": [
    "from IPython.core.display import display, HTML\n",
    "display(HTML(\"\"\"<a href=\"https://eformation.univ-grenoble-alpes.fr/pluginfile.php/223516/mod_folder/content/0/fluorescence_monomoleculaire.pdf?forcedownload=1\">Lire le support introductif</a>\"\"\"))"
   ]
  },
  {
   "cell_type": "markdown",
   "metadata": {},
   "source": [
    "#### Q1\n",
    "Indiquer ci-dessous les questions qui vous viennent spontanément après lecture.\n",
    "\n",
    "Comment la molécule B devient fluorescente au contact de A ?\n",
    "\n",
    "Comment fixer le colorant fluorescent sur la molécule B ?"
   ]
  },
  {
   "cell_type": "markdown",
   "metadata": {},
   "source": [
    "### Comment déduire une constante de vitesse de l'observation des états de molécules?\n",
    "\n",
    "Soit une réaction d'isomérisation:\n",
    " \n",
    "$$ A  \\overset{k_{A\\rightarrow B}}{\\underset{k_{B\\rightarrow A}}{\\rightleftarrows}} B  $$\n",
    "\n",
    "Les lois de la cinétique macroscopiques permettent de démontrer l'évolution exponentielle des concentrations en $A$ et $B$ avec une cinétique d'ordre 1. Pour des quantités de molécules $N_A$ et $N_B$, on a le système d'équations différentielles:\n",
    "\n",
    "$$\\left\\{ \\begin{align} \\frac{dN_A}{dt} & = -k_{A\\rightarrow B}\\ N_A + k_{B\\rightarrow A}\\ N_B  \\\\\n",
    "\\frac{dN_B}{dt} & = k_{A\\rightarrow B}\\ N_A - k_{B\\rightarrow A}\\ N_B\n",
    "\\end{align} \\right. $$\n",
    "\n",
    "Toutefois, le comportement du système peut être décrit en utilisant la notion de transformation aléatoire à l'échelle d'une molécule.\n",
    "\n",
    "Ainsi, une molécule $A$ a, pendant un intervalle de temps $dt$, une probabilité $p_{A\\rightarrow B}$ de se transformer en molécule $B$. À l'inverse, une molécule $B$ a une probabilité $p_{B\\rightarrow A}$ de se transformer en molécule $A$. Le tout forme donc un système que l'on appelle un automate déterministe.\n",
    "\n",
    "Comment alors arrive t-on à la loi de vitesse que vous connaissez bien maintenant? \n",
    "\n",
    "Remarquons déjà que si on divise $N_A$ ou $N_B$ par $N_{tot} = N_A + N_B$, alors on peut interpréter $p_A = N_A/N_{tot}$ (resp. $p_B = N_B/N_{tot}$) comme la probabilité pour une molécule d'être dans un état $A$ (resp. $B$). Et on a:\n",
    "\n",
    "$$\\left\\{ \\begin{align} \\frac{dp_A}{dt} & = -k_{A\\rightarrow B}\\ p_A + k_{B\\rightarrow A}\\ p_B  \\\\\n",
    "\\frac{dp_B}{dt} & = k_{A\\rightarrow B}\\ p_A - k_{B\\rightarrow A}\\ p_B\n",
    "\\end{align} \\right. $$\n",
    "\n",
    "La première équation peut être traduite, durant le pas de temps $dt$ en:\n",
    "\n",
    "$$p_A (t+dt) = (1-k_{A\\rightarrow B} dt) p_A(t) +  k_{B\\rightarrow A} dt \\ p_B(t) $$\n",
    "\n",
    "$p_A (t+dt)$ se décompose en:\n",
    " - (probabilité de rester $A$ si la molécule est déjà $A$) x (probabilité d'être à l'état $A$ à t)\n",
    " - (probabilité de basculer de $B$ à $A$) x (probabilité d'être à l'état $B$ à t)"
   ]
  },
  {
   "cell_type": "markdown",
   "metadata": {},
   "source": [
    "####  Q2 \n",
    "Pour une assemblée de $N$ molécules (vous ferez varier la valeur de $N$), initialement toutes dans le même état, simuler la variation de la population dans cet état en fonction du temps. Vous pouvez tester différentes valeurs pour la probabilité.\n",
    "\n",
    "Observer également les bascule entre états de quelques particules."
   ]
  },
  {
   "cell_type": "code",
   "execution_count": 2,
   "metadata": {},
   "outputs": [
    {
     "data": {
      "text/plain": [
       "<matplotlib.legend.Legend at 0x937eb10>"
      ]
     },
     "execution_count": 2,
     "metadata": {},
     "output_type": "execute_result"
    },
    {
     "data": {
      "image/png": "[encoded data removed]",
      "text/plain": [
       "<Figure size 432x288 with 1 Axes>"
      ]
     },
     "metadata": {
      "needs_background": "light"
     },
     "output_type": "display_data"
    },
    {
     "data": {
      "image/png": "[encoded data removed]",
      "text/plain": [
       "<Figure size 432x288 with 1 Axes>"
      ]
     },
     "metadata": {
      "needs_background": "light"
     },
     "output_type": "display_data"
    }
   ],
   "source": [
    "import numpy as np\n",
    "import random\n",
    "import scipy as sp\n",
    "import scipy.integrate as itg\n",
    "import matplotlib as mpl\n",
    "import matplotlib.pyplot as plt\n",
    "from IPython.display import *\n",
    "%matplotlib inline \n",
    "#pour affichage dans le notebook\n",
    "\n",
    "def syst (pA,pB,Ntot):\n",
    "    NA=1\n",
    "    NB=0\n",
    "    Lt=[]\n",
    "    L=[1]*Ntot\n",
    "    A=[]\n",
    "    B=[]\n",
    "    for t in range (100):\n",
    "        Lt.append(t)\n",
    "        for j in range (len(L)):\n",
    "            i=random.random()\n",
    "            if i < pA and L[j]==0:\n",
    "                L[j]=1\n",
    "            elif i < pB and L[j]==1:\n",
    "                L[j]=0\n",
    "        A.append(sum(L))#liste contenant le nombre de molécules A pour tout t\n",
    "        B.append(Ntot-sum(L))\n",
    "    return Lt,A,B\n",
    "\n",
    "t,A,B=syst(0.09,0.06,1)\n",
    "plt.figure (1)\n",
    "plt.plot(t,A,'r-',linewidth=2.0,label=('NA'))\n",
    "plt.plot(t,B,'g-',linewidth=2.0,label=('NB'))\n",
    "plt.xlabel('Time (s)')\n",
    "plt.ylabel('Nombre de molécules')\n",
    "plt.legend()\n",
    "\n",
    "t,A,B=syst(0.09,0.06,100000)\n",
    "plt.figure (2)\n",
    "plt.plot(t,A,'b-',linewidth=2.0,label=('NA'))\n",
    "plt.xlabel('Time (s)')\n",
    "plt.ylabel('Nombre de molécules')\n",
    "plt.legend()\n"
   ]
  },
  {
   "cell_type": "code",
   "execution_count": null,
   "metadata": {},
   "outputs": [],
   "source": []
  },
  {
   "cell_type": "code",
   "execution_count": null,
   "metadata": {},
   "outputs": [],
   "source": []
  }
 ],
 "metadata": {
  "kernelspec": {
   "display_name": "Python 3",
   "language": "python",
   "name": "python3"
  },
  "language_info": {
   "codemirror_mode": {
    "name": "ipython",
    "version": 3
   },
   "file_extension": ".py",
   "mimetype": "text/x-python",
   "name": "python",
   "nbconvert_exporter": "python",
   "pygments_lexer": "ipython3",
   "version": "3.8.8"
  }
 },
 "nbformat": 4,
 "nbformat_minor": 2
}
